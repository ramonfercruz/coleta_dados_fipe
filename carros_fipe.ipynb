{
  "nbformat": 4,
  "nbformat_minor": 0,
  "metadata": {
    "kernelspec": {
      "display_name": "Python 3",
      "language": "python",
      "name": "python3"
    },
    "language_info": {
      "codemirror_mode": {
        "name": "ipython",
        "version": 3
      },
      "file_extension": ".py",
      "mimetype": "text/x-python",
      "name": "python",
      "nbconvert_exporter": "python",
      "pygments_lexer": "ipython3",
      "version": "3.7.6"
    },
    "colab": {
      "name": "carros_fipe.ipynb",
      "provenance": [],
      "include_colab_link": true
    }
  },
  "cells": [
    {
      "cell_type": "markdown",
      "metadata": {
        "id": "view-in-github",
        "colab_type": "text"
      },
      "source": [
        "<a href=\"https://colab.research.google.com/github/ramonfercruz/coleta_dados_fipe/blob/main/carros_fipe.ipynb\" target=\"_parent\"><img src=\"https://colab.research.google.com/assets/colab-badge.svg\" alt=\"Open In Colab\"/></a>"
      ]
    },
    {
      "cell_type": "markdown",
      "metadata": {
        "id": "jqUIOfJL90Gk"
      },
      "source": [
        "# Web Scraping com Selenium\n",
        "\n",
        "## O que é selenium?\n",
        "\n",
        "Selenium é um conjunto de ferramentas para automatizar navegadores web, disponiveis em java, python, C#, Rubby, javascript, Kotlin.\n",
        "<p><b>Site:</b> https://www.selenium.dev/</p>"
      ]
    },
    {
      "cell_type": "markdown",
      "metadata": {
        "id": "0VK2oVre90Gn"
      },
      "source": [
        "## Cenário Proposto\n",
        "\n",
        "Você foi contratado por uma concessionaria de veiculos, especializada em venda de carros usados. Você precisa realizar uma previsão do valor futuro dos veiculos é calcular uma taxa de depreciação. Para esse trabalho sera necessario coletar os dados da Tabela FIPE"
      ]
    },
    {
      "cell_type": "markdown",
      "metadata": {
        "id": "Sq3FO5mh90Gn"
      },
      "source": [
        "## O que é a Fipe?\n",
        "A Fundação Instituto de Pesquisas Econômicas – Fipe é uma organização de direito privado, sem fins lucrativos, criada em 1973. Entre seus objetivos está o apoio a instituições de ensino e pesquisa, públicas ou privadas, em especial o Departamento de Economia da Faculdade de Economia, Administração e Contabilidade da Universidade de São Paulo (FEA-USP). Possui, hoje, destacada atuação nas áreas de ensino, projetos, pesquisa e desenvolvimento de indicadores econômicos e financeiros.\n",
        "\n",
        "<b> Fonte: <b> https://www.fipe.org.br/pt-br/institucional/sobre-a-fipe/"
      ]
    },
    {
      "cell_type": "markdown",
      "metadata": {
        "id": "RL03GKkE90Go"
      },
      "source": [
        "## Como é Calculdado a tabela FIPE:\n",
        "\n",
        "\n",
        "### Preço Médio de Veículos\n",
        "1. A Tabela Fipe expressa preços médios de veículos anunciados pelos vendedores, no mercado nacional, servindo apenas como um parâmetro para negociações ou avaliações. Os preços efetivamente praticados variam em função da região, conservação, cor, acessórios ou qualquer outro fator que possa influenciar as condições de oferta e procura por um veículo específico.\n",
        "\n",
        "2. O ano do veículo refere-se ao ano do modelo e não são considerados veículos para uso profissional ou especial.\n",
        "\n",
        "3. Os valores são expressos em R$ (reais) do mês/ano de referência.\n",
        "\n",
        "<b> Fonte: <b> https://veiculos.fipe.org.br/\n",
        "\n"
      ]
    },
    {
      "cell_type": "markdown",
      "metadata": {
        "id": "UsBQRscZ90Go"
      },
      "source": [
        "## Porque realizar web Scraping?\n",
        "\n",
        "A Fipe não disponibiliza APi para coleta da informações ou forma de realizar o dowload completo dos dados. Os dados estão disponíveis para consulta apenas no endereço https://veiculos.fipe.org.br/."
      ]
    },
    {
      "cell_type": "markdown",
      "metadata": {
        "id": "LQO5jtgt90Gp"
      },
      "source": [
        "## Estruturando o problema\n",
        "\n",
        "Para realizar a coleta de dados com o selenium precisamos simular todas as ações de um usuário, dentro do site da FIPE. Vamos analisar esses passo a passo, anotandos os dados das ações do usuário."
      ]
    },
    {
      "cell_type": "markdown",
      "metadata": {
        "id": "O2gFzK3h90Gp"
      },
      "source": [
        "### Primeiro passo:\n",
        "    \n",
        "Selecionar o tipo de consulta realizada, o site nos permite três tipos de consulta:\n",
        "<p><b>  - Carros e utilitários  </b></p>\n",
        "<p><b>  - Caminhês e Micro-ônibus  </b></p>\n",
        "<p><b>  - Motos  </b></p>"
      ]
    },
    {
      "cell_type": "markdown",
      "metadata": {
        "id": "F8CgeQiJ90Gp"
      },
      "source": [
        "Escolheremos a primeira opção: Carros e utilitários \n",
        "\n",
        "Copiaremos o nome xPath do campo selecionados. Para isso, vamos clicar com o botão direito do mouse e em seguida vamos clicar em inspecionar.\n",
        "\n",
        "Obtemos os seguintes resultados:\n",
        "\n",
        "<b> campo: //*[@id=\"front\"]/div[1]/div[2]/ul/li[1]/a </b>\n",
        "\n",
        "![image.png](attachment:image.png)"
      ]
    },
    {
      "cell_type": "markdown",
      "metadata": {
        "id": "_Md7yR5g90Gq"
      },
      "source": [
        "## Segundo passo:\n",
        "\n",
        "Selecionar qual o Ano de referência do preço e preencher o campo:\n",
        "\n",
        "Neste campos precisaremos de duas informações o id da caixa de seleção e local do input do dados:\n",
        "\n",
        "Vamos fazer o mesmo procedimento anterior. Clicar com o botão direito do mouse no botão desejado e em seguida clicar em inspecionar.\n",
        "\n",
        "Obtemos os seguintes resultados:\n",
        "\n",
        "Id da caixa de seleção: <b> selectTabelaReferenciacarro_chosen </b>\n",
        "<p> <p> xpath campo input: <b>'//*[@id=\"selectTabelaReferenciacarro_chosen\"]/div/div/input' </b></p>\n",
        "\n",
        "\n",
        "![image.png](attachment:image.png)"
      ]
    },
    {
      "cell_type": "markdown",
      "metadata": {
        "id": "kefHuVui90Gq"
      },
      "source": [
        "### Lista de opções:\n",
        "\n",
        "![image.png](attachment:image.png)"
      ]
    },
    {
      "cell_type": "markdown",
      "metadata": {
        "id": "18CUg4vC90Gq"
      },
      "source": [
        "## Terceiro Passo:\n",
        "\n",
        "### Selecionar qual o marca do veiculo\n",
        "\n",
        "<p> id campo marca: <b> selectMarcacarro_chosen<b></p>\n",
        "<p> xpath campo input: <b>'//*[@id=\"selectMarcacarro_chosen\"]/div/div/input' </b></p>\n",
        "\n",
        "\n",
        "\n",
        "![image.png](attachment:image.png)"
      ]
    },
    {
      "cell_type": "markdown",
      "metadata": {
        "id": "Y2wvSq_g90Gq"
      },
      "source": [
        "### Lista de Opções:\n",
        "\n",
        "![image.png](attachment:image.png)"
      ]
    },
    {
      "cell_type": "markdown",
      "metadata": {
        "id": "w6xeMMU290Gr"
      },
      "source": [
        "## Quarto Passo:\n",
        "\n",
        "\n",
        "### Selecionar qual o modelo do veiculo\n",
        "\n",
        "<p> id campo modelo: <b> selectAnoModelocarro_chosen<b></p>\n",
        "<p> xpath campo input: <b>'//*[@id=\"selectAnoModelocarro_chosen\"]/div/div/input' </b></p>\n",
        "\n",
        "\n",
        "\n",
        "![image.png](attachment:image.png)"
      ]
    },
    {
      "cell_type": "markdown",
      "metadata": {
        "id": "KbCjaL-D90Gr"
      },
      "source": [
        "### Lista de opções\n",
        "\n",
        "![image.png](attachment:image.png)"
      ]
    },
    {
      "cell_type": "markdown",
      "metadata": {
        "id": "qOpLbTne90Gr"
      },
      "source": [
        "## Quinto Passo:\n",
        "\n",
        "\n",
        "### Selecionar qual o ano do veiculo\n",
        "\n",
        "<p> id campo ano: <b> selectAnocarro_chosen<b></p>\n",
        "<p> xpath campo input: <b>'//*[@id=\"selectAnocarro_chosen\"]/div/div/input' </b></p>\n",
        "\n",
        "\n",
        "\n",
        "![image.png](attachment:image.png)"
      ]
    },
    {
      "cell_type": "markdown",
      "metadata": {
        "id": "59j731ot90Gr"
      },
      "source": [
        "### Lista de opções\n",
        "\n",
        "\n",
        "![image.png](attachment:image.png)"
      ]
    },
    {
      "cell_type": "markdown",
      "metadata": {
        "id": "skMPBiN090Gs"
      },
      "source": [
        "## Sexto Passo:\n",
        "\n",
        "\n",
        "### Clicar no botão de pesquisar\n",
        "\n",
        "<p> id do botão de pesquisar: <b> buttonPesquisarcarro<b></p>\n",
        "\n",
        "\n",
        "![image.png](attachment:image.png)"
      ]
    },
    {
      "cell_type": "markdown",
      "metadata": {
        "id": "UXQYTSwF90Gs"
      },
      "source": [
        "## Setimo Passo:\n",
        "\n",
        "\n",
        "### Buscar dados na tabela de resultado\n",
        "\n",
        "<p> id tabela de resultado: <b> selectTabelaReferenciacarro_chosen<b></p>\n",
        "\n",
        "\n",
        "\n",
        "\n",
        "![image.png](attachment:image.png)"
      ]
    },
    {
      "cell_type": "markdown",
      "metadata": {
        "id": "Orwz2H_m90Gs"
      },
      "source": [
        "## Oitavo Passo:\n",
        "\n",
        "\n",
        "### Limpar Resultado\n",
        "\n",
        "<p> id botão limpar resultado: <b> buttonPesquisarcarro</b></p>\n",
        "\n",
        "\n",
        "\n",
        "![image.png](attachment:image.png)"
      ]
    },
    {
      "cell_type": "markdown",
      "metadata": {
        "id": "3jUqsy_A90Gt"
      },
      "source": [
        "## Web Driver\n",
        "\n",
        "Agora que já conhecemos os passos necessários para acessar as informação do preços do carros, utilizaramoes o webdriver do selenium para automatizar essa tarefa.\n",
        "\n",
        "O webdriver exige o dowload compativel com o seu navegador web, nesta tarefa utilizaremos o Google Chrome. Podemos verificar a lista de driver disponiveis em https://www.selenium.dev/documentation/en/webdriver/driver_requirements/\n",
        "\n",
        "Baixamos compativel com nosso navegador:\n",
        "\n",
        "![image.png](attachment:image.png)\n",
        "\n",
        "Precisamos anotar o local do arquivo baixado. \n",
        "'C:\\\\Driver Selenium\\\\chromedriver.exe'"
      ]
    },
    {
      "cell_type": "markdown",
      "metadata": {
        "id": "f5YMPlG990Gt"
      },
      "source": [
        "## Driveres disponiveis:\n",
        "\n",
        "![image.png](attachment:image.png)"
      ]
    },
    {
      "cell_type": "markdown",
      "metadata": {
        "id": "LqEzTLIU90Gt"
      },
      "source": [
        "## Preparando Ambiente\n",
        "\n",
        "Precisamos instalar a versão 3.141.0 selenium em nossa virtualenv"
      ]
    },
    {
      "cell_type": "code",
      "metadata": {
        "id": "4D8wjrQr90Gt",
        "outputId": "ee02fd57-ad5b-4d16-c2f6-571c3ac27139"
      },
      "source": [
        "!pip install selenium==3.141.0"
      ],
      "execution_count": null,
      "outputs": [
        {
          "output_type": "stream",
          "text": [
            "Requirement already satisfied: selenium==3.141.0 in c:\\programdata\\anaconda3\\lib\\site-packages (3.141.0)\n",
            "Requirement already satisfied: urllib3 in c:\\users\\ramon.f.cruz\\appdata\\roaming\\python\\python37\\site-packages (from selenium==3.141.0) (1.24.3)\n"
          ],
          "name": "stdout"
        },
        {
          "output_type": "stream",
          "text": [
            "WARNING: You are using pip version 20.2.4; however, version 21.0.1 is available.\n",
            "You should consider upgrading via the 'C:\\ProgramData\\Anaconda3\\python.exe -m pip install --upgrade pip' command.\n"
          ],
          "name": "stderr"
        }
      ]
    },
    {
      "cell_type": "code",
      "metadata": {
        "id": "UwYRYU7d90Gu",
        "outputId": "e78fbaf9-adc7-448c-a430-47088b60a5f6"
      },
      "source": [
        "import selenium\n",
        "\n",
        "\n",
        "print(\"Versão utilizada\", selenium.__version__)"
      ],
      "execution_count": null,
      "outputs": [
        {
          "output_type": "stream",
          "text": [
            "Versão utilizada 3.141.0\n"
          ],
          "name": "stdout"
        }
      ]
    },
    {
      "cell_type": "code",
      "metadata": {
        "id": "Trs5TVe_90Gv"
      },
      "source": [
        "# importando o webdriver\n",
        "from selenium import webdriver"
      ],
      "execution_count": null,
      "outputs": []
    },
    {
      "cell_type": "markdown",
      "metadata": {
        "id": "9fEDJzm690Gv"
      },
      "source": [
        "## Atribuindo Valores anotados a variáveis"
      ]
    },
    {
      "cell_type": "code",
      "metadata": {
        "id": "1CZSc2j790Gv"
      },
      "source": [
        "# Dados Site\n",
        "\n",
        "site = 'https://veiculos.fipe.org.br/'\n",
        "\n",
        "#Tipo consutla\n",
        "xpath_tipo_consulta = '//*[@id=\"front\"]/div[1]/div[2]/ul/li[1]/a'\n",
        "\n",
        "#Caixas de seleção\n",
        "id_marca_carro = 'selectMarcacarro_chosen'\n",
        "id_modelo_carro = 'selectAnoModelocarro_chosen'\n",
        "id_ano_carro = 'selectAnocarro_chosen'\n",
        "id_tabela_referencia = 'selectTabelaReferenciacarro_chosen'\n",
        "\n",
        "#botoes\n",
        "id_botao_limpar = 'buttonLimparPesquisarcarro'\n",
        "id_botao_pesquisa = 'buttonPesquisarcarro'\n",
        "\n",
        "#resultado da pesquisa\n",
        "id_resultado_filtros = 'resultadoConsultacarroFiltros'\n",
        "\n",
        "\n",
        "#informações do carro\n",
        "ano_veiculo = '2013'\n",
        "modelo_veiculo = 'Gol (novo) 1.0 Mi Total Flex 8V 4p'\n",
        "marca_veiculo = \"VW - VolksWagen\"\n",
        "\n",
        "\n",
        "#Caminho arquivo Web driver\n",
        "WEBDRIVER = 'C:\\\\Driver Selenium\\\\chromedriver.exe'"
      ],
      "execution_count": null,
      "outputs": []
    },
    {
      "cell_type": "markdown",
      "metadata": {
        "id": "o9v6pALK90Gv"
      },
      "source": [
        "## input de informações\n",
        "\n",
        "Observe que temos um padrão no campo no xpath do campo de input de dados:\n",
        "\n",
        "'//*[@id=\"selectMarcacarro_chosen\"]/div/div/input'\n",
        "\n",
        "'//*[@id=\"selectAnoModelocarro_chosen\"]/div/div/input'\n",
        "\n",
        "'//*[@id=\"selectAnocarro_chosen\"]/div/div/input'\n",
        "\n",
        "'//*[@id=\"selectTabelaReferenciacarro_chosen\"]/div/div/input'\n",
        "\n",
        "<p>Podemos criar uma função que gera essa informação, reduzindo o tamanho do nosso código e deixando mais legivel.\n",
        "\n"
      ]
    },
    {
      "cell_type": "code",
      "metadata": {
        "id": "zykH6xZ890Gv"
      },
      "source": [
        "def x_path_input(id_elemento):\n",
        "    return '//*[@id=\"{}\"]/div/div/input'.format(id_elemento)"
      ],
      "execution_count": null,
      "outputs": []
    },
    {
      "cell_type": "markdown",
      "metadata": {
        "id": "Vwuq-mU_90Gw"
      },
      "source": [
        "## Tempo de resposta do navegador:\n",
        "\n",
        "Como estamos simulando a ação de um usuário a com o selenium precisamos esperar que a informações sejam redenrizadas no navegador, por esse motivo, a cada execução precisamos esperar que o html seja atualizado."
      ]
    },
    {
      "cell_type": "code",
      "metadata": {
        "id": "sOwLlhYk90Gw"
      },
      "source": [
        "#Metodo de esperar de esperar\n",
        "import random\n",
        "import time\n",
        "\n",
        "def esperar(segundos=None):\n",
        "    \"\"\"Casos nenhum valor seja atribuido, \n",
        "    será atribuido um tempo randomico entre 2 e 8\n",
        "    (Feito desta forma para simular a ação de um usuário)\"\"\"\n",
        "    if not segundos:\n",
        "        segundos = random.randrange(2,8)\n",
        "    time.sleep(segundos)"
      ],
      "execution_count": null,
      "outputs": []
    },
    {
      "cell_type": "code",
      "metadata": {
        "id": "ICnPbjYx90Gw"
      },
      "source": [
        "# Abrindo o navegador, utilizando o drive do cromio\n",
        "driver = webdriver.Chrome('C:\\\\Driver Selenium\\\\chromedriver.exe')\n",
        "driver.get(site)\n",
        "esperar(15) # espera 15 segunos para executar outra interação "
      ],
      "execution_count": null,
      "outputs": []
    },
    {
      "cell_type": "markdown",
      "metadata": {
        "id": "4b9PV4ey90Gw"
      },
      "source": [
        "### Navegador é aberto\n",
        "\n",
        "![image.png](attachment:image.png)"
      ]
    },
    {
      "cell_type": "code",
      "metadata": {
        "id": "L1xQTo1t90Gw"
      },
      "source": [
        "#Vamos clicar no tipo de consulta escolhido\n",
        "#Metodo find_element_by_xpath encontra um elemento atravez o xpath\n",
        "tipo_consulta = driver.find_element_by_xpath(xpath_tipo_consulta)\n",
        "tipo_consulta.click()"
      ],
      "execution_count": null,
      "outputs": []
    },
    {
      "cell_type": "markdown",
      "metadata": {
        "id": "MqGgZVWq90Gx"
      },
      "source": [
        "### A ação é executada no navegador\n",
        "\n",
        "![image.png](attachment:image.png)"
      ]
    },
    {
      "cell_type": "markdown",
      "metadata": {
        "id": "AmrYDdL290Gx"
      },
      "source": [
        "### Agora vamos inserir o período de referência"
      ]
    },
    {
      "cell_type": "code",
      "metadata": {
        "id": "ZYbA7Pr890Gx"
      },
      "source": [
        "# metodo find_element_by_id encontra um elemento atravez do id\n",
        "pesquisa = driver.find_element_by_id(id_tabela_referencia)\n",
        "pesquisa.click() "
      ],
      "execution_count": null,
      "outputs": []
    },
    {
      "cell_type": "code",
      "metadata": {
        "id": "N1KaoTwv90Gx"
      },
      "source": [
        "# retornamos o elemento de imput e buscamos ele\n",
        "xpath = x_path_input(id_tabela_referencia)\n",
        "caixa = driver.find_element_by_xpath(xpath)"
      ],
      "execution_count": null,
      "outputs": []
    },
    {
      "cell_type": "code",
      "metadata": {
        "id": "SwoONb5o90Gx"
      },
      "source": [
        "from selenium.webdriver.common.keys import Keys\n",
        "\n",
        "#utilizamos o mento send_key para inrerir o valor desejado\n",
        "#importadmos o metodo keys para sismular as ações down e return do teclado (seta para baixo e enter)\n",
        "caixa.send_keys('fevereiro/2021' + Keys.DOWN + Keys.RETURN)"
      ],
      "execution_count": null,
      "outputs": []
    },
    {
      "cell_type": "markdown",
      "metadata": {
        "id": "fyRRJOvW90Gx"
      },
      "source": [
        "### Criando função para preencher  item\n",
        "\n",
        "Como este procedimento será repetido em todas as caixas de seleção, podemos criar uma função."
      ]
    },
    {
      "cell_type": "code",
      "metadata": {
        "id": "IAxYTwrU90Gy"
      },
      "source": [
        "def prechence_item(id_elemento, texto_pesquisa):\n",
        "    pesquisa = driver.find_element_by_id(id_elemento)\n",
        "    pesquisa.click()\n",
        "    xpath = x_path_input(id_elemento)\n",
        "    caixa = driver.find_element_by_xpath(xpath)\n",
        "    caixa.send_keys(texto_pesquisa + Keys.DOWN + Keys.RETURN)\n",
        "    pesquisa.is_selecteds = False #retirar seleção\n",
        "    caixa.is_selecteds = False # retirar seleção"
      ],
      "execution_count": null,
      "outputs": []
    },
    {
      "cell_type": "code",
      "metadata": {
        "id": "xA7C5OBV90Gy"
      },
      "source": [
        "#resumindo\n",
        "esperar()\n",
        "prechence_item(id_tabela_referencia, 'fevereiro/2021')"
      ],
      "execution_count": null,
      "outputs": []
    },
    {
      "cell_type": "code",
      "metadata": {
        "id": "JRc9KqOq90Gy"
      },
      "source": [
        "#preencher marca\n",
        "esperar()\n",
        "prechence_item(id_marca_carro, marca_veiculo)"
      ],
      "execution_count": null,
      "outputs": []
    },
    {
      "cell_type": "code",
      "metadata": {
        "id": "jZHm4eBG90Gy"
      },
      "source": [
        "#preencher modelo\n",
        "esperar()\n",
        "prechence_item(id_modelo_carro, modelo_veiculo)"
      ],
      "execution_count": null,
      "outputs": []
    },
    {
      "cell_type": "code",
      "metadata": {
        "id": "1WP87Jo190Gz"
      },
      "source": [
        "#preencher ano\n",
        "esperar()\n",
        "prechence_item(id_ano_carro, ano_veiculo)"
      ],
      "execution_count": null,
      "outputs": []
    },
    {
      "cell_type": "code",
      "metadata": {
        "id": "R93f7GTw90Gz"
      },
      "source": [
        "#clicando em pesquisar\n",
        "esperar()\n",
        "buscar = driver.find_element_by_id(id_botao_pesquisa)\n",
        "buscar.click()"
      ],
      "execution_count": null,
      "outputs": []
    },
    {
      "cell_type": "markdown",
      "metadata": {
        "id": "hVBftIrG90Gz"
      },
      "source": [
        "### Importando a  biblioteca BeautifulSoup para obter resultado da tabela gerada"
      ]
    },
    {
      "cell_type": "code",
      "metadata": {
        "id": "HIlp89sM90Gz"
      },
      "source": [
        "!pip install beautifulsoup4"
      ],
      "execution_count": null,
      "outputs": []
    },
    {
      "cell_type": "code",
      "metadata": {
        "id": "t4UQ3SzF90Gz",
        "outputId": "54b23121-5e50-420e-f9df-7cbe02ad398c"
      },
      "source": [
        "from bs4 import BeautifulSoup\n",
        "\n",
        "#copiando resultados resultados da tabela\n",
        "\n",
        "table = driver.find_element_by_id(id_resultado_filtros)\n",
        "html = table.get_attribute('innerHTML')\n",
        "parser = BeautifulSoup(html, \"html.parser\")\n",
        "table = parser.select_one('tbody')\n",
        "table"
      ],
      "execution_count": null,
      "outputs": [
        {
          "output_type": "execute_result",
          "data": {
            "text/plain": [
              "<tbody>\n",
              "<tr>\n",
              "<td class=\"noborder\"><p>Mês de referência:</p></td>\n",
              "<td><p>fevereiro de 2021 </p></td>\n",
              "</tr>\n",
              "<tr>\n",
              "<td class=\"noborder\"><p>Código Fipe:</p></td>\n",
              "<td><p>005275-2</p></td>\n",
              "</tr>\n",
              "<tr>\n",
              "<td class=\"noborder\"><p>Marca:</p></td>\n",
              "<td><p>VW - VolksWagen</p></td>\n",
              "</tr>\n",
              "<tr>\n",
              "<td class=\"noborder\"><p>Modelo:</p></td>\n",
              "<td><p>Gol (novo) 1.0 Mi Total Flex 8V 4p</p></td>\n",
              "</tr>\n",
              "<tr>\n",
              "<td class=\"noborder\"><p>Ano Modelo:</p></td>\n",
              "<td><p>2013 Gasolina</p></td>\n",
              "</tr>\n",
              "<tr>\n",
              "<td class=\"noborder\"><p>Autenticação</p></td>\n",
              "<td><p>l7sn2y2ymxnc</p></td>\n",
              "</tr>\n",
              "<tr>\n",
              "<td class=\"noborder\"><p>Data da consulta</p></td>\n",
              "<td><p>segunda-feira, 22 de março de 2021 01:18</p></td>\n",
              "</tr>\n",
              "<tr class=\"last\">\n",
              "<td class=\"noborder\"><p>Preço Médio</p></td>\n",
              "<td><p>R$ 23.579,00</p></td>\n",
              "</tr>\n",
              "</tbody>"
            ]
          },
          "metadata": {
            "tags": []
          },
          "execution_count": 26
        }
      ]
    },
    {
      "cell_type": "markdown",
      "metadata": {
        "id": "1OWsIqeM90G0"
      },
      "source": [
        "<b>Observe que os valores que procuramos estão entre as tags td e p</b>\n",
        "<p>Vamor escrever uma expressão regular para buscar esses elementos.</p>"
      ]
    },
    {
      "cell_type": "code",
      "metadata": {
        "id": "184LUNuR90G0"
      },
      "source": [
        "import re\n",
        "\"\"\"\n",
        "Caracteres inicial de busca\n",
        "'<td><p>'\n",
        "\n",
        "Caracteres finais de bucas\n",
        "'</p></td>'\n",
        "\n",
        "\n",
        "#Por fim solicitamos qualquer elemento entres esses dois grupos de caracteres\n",
        "'.*?'\n",
        "\n",
        "\"\"\"\n",
        "regex_dados = re.compile('(<td><p>)(.*?)(</p></td>)')\n"
      ],
      "execution_count": null,
      "outputs": []
    },
    {
      "cell_type": "code",
      "metadata": {
        "id": "IeqVjw4t90G0",
        "outputId": "7de42d02-9a49-4d81-bd04-57a2935afee3"
      },
      "source": [
        "#Agora informamos onde queremos buscar os dados\n",
        "dados = regex_dados.findall(str(table))\n",
        "dados"
      ],
      "execution_count": null,
      "outputs": [
        {
          "output_type": "execute_result",
          "data": {
            "text/plain": [
              "[('<td><p>', 'fevereiro de 2021 ', '</p></td>'),\n",
              " ('<td><p>', '005275-2', '</p></td>'),\n",
              " ('<td><p>', 'VW - VolksWagen', '</p></td>'),\n",
              " ('<td><p>', 'Gol (novo) 1.0 Mi Total Flex 8V 4p', '</p></td>'),\n",
              " ('<td><p>', '2013 Gasolina', '</p></td>'),\n",
              " ('<td><p>', 'l7sn2y2ymxnc', '</p></td>'),\n",
              " ('<td><p>', 'segunda-feira, 22 de março de 2021 01:18', '</p></td>'),\n",
              " ('<td><p>', 'R$ 23.579,00', '</p></td>')]"
            ]
          },
          "metadata": {
            "tags": []
          },
          "execution_count": 28
        }
      ]
    },
    {
      "cell_type": "code",
      "metadata": {
        "id": "x17gxk9z90G0",
        "outputId": "60d2bbed-022d-4444-e327-4fcc25afc67e"
      },
      "source": [
        "#tornamdo mais legivel\n",
        "for i, dado in enumerate(dados):\n",
        "    dados[i] = dado[1]\n",
        "dados"
      ],
      "execution_count": null,
      "outputs": [
        {
          "output_type": "execute_result",
          "data": {
            "text/plain": [
              "['fevereiro de 2021 ',\n",
              " '005275-2',\n",
              " 'VW - VolksWagen',\n",
              " 'Gol (novo) 1.0 Mi Total Flex 8V 4p',\n",
              " '2013 Gasolina',\n",
              " 'l7sn2y2ymxnc',\n",
              " 'segunda-feira, 22 de março de 2021 01:18',\n",
              " 'R$ 23.579,00']"
            ]
          },
          "metadata": {
            "tags": []
          },
          "execution_count": 29
        }
      ]
    },
    {
      "cell_type": "code",
      "metadata": {
        "id": "ijRkbt2p90G1"
      },
      "source": [
        "#criando funcao lista dado\n",
        "def lista_dado(dados):\n",
        "    for i, dado in enumerate(dados):\n",
        "        dados[i] = dado[1]\n",
        "    return dados"
      ],
      "execution_count": null,
      "outputs": []
    },
    {
      "cell_type": "code",
      "metadata": {
        "id": "7jjOOKBK90G1",
        "outputId": "51d39118-0e7e-4df1-fe2d-9970bf6d7086"
      },
      "source": [
        "#bucando titulo\n",
        "regex_titulo= re.compile('(<td class=\"noborder\"><p>)(.*?)(</p>)')\n",
        "titulo = regex_titulo.findall(str(table))\n",
        "titulo = lista_dado(titulo)\n",
        "titulo"
      ],
      "execution_count": null,
      "outputs": [
        {
          "output_type": "execute_result",
          "data": {
            "text/plain": [
              "['Mês de referência:',\n",
              " 'Código Fipe:',\n",
              " 'Marca:',\n",
              " 'Modelo:',\n",
              " 'Ano Modelo:',\n",
              " 'Autenticação',\n",
              " 'Data da consulta',\n",
              " 'Preço Médio']"
            ]
          },
          "metadata": {
            "tags": []
          },
          "execution_count": 32
        }
      ]
    },
    {
      "cell_type": "code",
      "metadata": {
        "id": "x8MVoyNj90G1"
      },
      "source": [
        "# limpar pesquisa e fechar navegador\n",
        "esperar()\n",
        "buscar = driver.find_element_by_id(id_botao_limpar)\n",
        "buscar.click()"
      ],
      "execution_count": null,
      "outputs": []
    },
    {
      "cell_type": "markdown",
      "metadata": {
        "id": "5fhuZhgj90G1"
      },
      "source": [
        "## Tarefa concluída, porém ...\n",
        "\n",
        "Concluimos nosso codigo, porém como podemos buscar um grupo maior de informações?"
      ]
    },
    {
      "cell_type": "code",
      "metadata": {
        "id": "pmcujLA690G2"
      },
      "source": [
        "#buscando informações do da caixa de seleção\n",
        "referencia_ano = driver.find_element_by_id(id_tabela_referencia)\n",
        "referencia_ano.click()"
      ],
      "execution_count": null,
      "outputs": []
    },
    {
      "cell_type": "code",
      "metadata": {
        "id": "zqE1Lz1E90G2"
      },
      "source": [
        "# Extrai todos os dados da tabela de seleção\n",
        "html_referencia = referencia_ano.get_attribute('innerHTML')"
      ],
      "execution_count": null,
      "outputs": []
    },
    {
      "cell_type": "code",
      "metadata": {
        "id": "jaTw5M4I90G2",
        "outputId": "15560142-8520-49ea-8006-eabe00b35c90"
      },
      "source": [
        "re_anos = re.compile(r'(\" style=\"\">)(.*?)( </li>)')\n",
        "lista_periodos = re_anos.findall(str(html_referencia))\n",
        "lista_periodos"
      ],
      "execution_count": null,
      "outputs": [
        {
          "output_type": "execute_result",
          "data": {
            "text/plain": [
              "[('\" style=\"\">', 'março/2021', ' </li>'),\n",
              " ('\" style=\"\">', 'fevereiro/2021', ' </li>'),\n",
              " ('\" style=\"\">', 'janeiro/2021', ' </li>'),\n",
              " ('\" style=\"\">', 'dezembro/2020', ' </li>'),\n",
              " ('\" style=\"\">', 'novembro/2020', ' </li>'),\n",
              " ('\" style=\"\">', 'outubro/2020', ' </li>'),\n",
              " ('\" style=\"\">', 'setembro/2020', ' </li>'),\n",
              " ('\" style=\"\">', 'agosto/2020', ' </li>'),\n",
              " ('\" style=\"\">', 'julho/2020', ' </li>'),\n",
              " ('\" style=\"\">', 'junho/2020', ' </li>'),\n",
              " ('\" style=\"\">', 'maio/2020', ' </li>'),\n",
              " ('\" style=\"\">', 'abril/2020', ' </li>'),\n",
              " ('\" style=\"\">', 'março/2020', ' </li>'),\n",
              " ('\" style=\"\">', 'fevereiro/2020', ' </li>'),\n",
              " ('\" style=\"\">', 'janeiro/2020', ' </li>'),\n",
              " ('\" style=\"\">', 'dezembro/2019', ' </li>'),\n",
              " ('\" style=\"\">', 'novembro/2019', ' </li>'),\n",
              " ('\" style=\"\">', 'outubro/2019', ' </li>'),\n",
              " ('\" style=\"\">', 'setembro/2019', ' </li>'),\n",
              " ('\" style=\"\">', 'agosto/2019', ' </li>'),\n",
              " ('\" style=\"\">', 'julho/2019', ' </li>'),\n",
              " ('\" style=\"\">', 'junho/2019', ' </li>'),\n",
              " ('\" style=\"\">', 'maio/2019', ' </li>'),\n",
              " ('\" style=\"\">', 'abril/2019', ' </li>'),\n",
              " ('\" style=\"\">', 'março/2019', ' </li>'),\n",
              " ('\" style=\"\">', 'fevereiro/2019', ' </li>'),\n",
              " ('\" style=\"\">', 'janeiro/2019', ' </li>'),\n",
              " ('\" style=\"\">', 'dezembro/2018', ' </li>'),\n",
              " ('\" style=\"\">', 'novembro/2018', ' </li>'),\n",
              " ('\" style=\"\">', 'outubro/2018', ' </li>'),\n",
              " ('\" style=\"\">', 'setembro/2018', ' </li>'),\n",
              " ('\" style=\"\">', 'agosto/2018', ' </li>'),\n",
              " ('\" style=\"\">', 'julho/2018', ' </li>'),\n",
              " ('\" style=\"\">', 'junho/2018', ' </li>'),\n",
              " ('\" style=\"\">', 'maio/2018', ' </li>'),\n",
              " ('\" style=\"\">', 'abril/2018', ' </li>'),\n",
              " ('\" style=\"\">', 'março/2018', ' </li>'),\n",
              " ('\" style=\"\">', 'fevereiro/2018', ' </li>'),\n",
              " ('\" style=\"\">', 'janeiro/2018', ' </li>'),\n",
              " ('\" style=\"\">', 'dezembro/2017', ' </li>'),\n",
              " ('\" style=\"\">', 'novembro/2017', ' </li>'),\n",
              " ('\" style=\"\">', 'outubro/2017', ' </li>'),\n",
              " ('\" style=\"\">', 'setembro/2017', ' </li>'),\n",
              " ('\" style=\"\">', 'agosto/2017', ' </li>'),\n",
              " ('\" style=\"\">', 'julho/2017', ' </li>'),\n",
              " ('\" style=\"\">', 'junho/2017', ' </li>'),\n",
              " ('\" style=\"\">', 'maio/2017', ' </li>'),\n",
              " ('\" style=\"\">', 'abril/2017', ' </li>'),\n",
              " ('\" style=\"\">', 'março/2017', ' </li>'),\n",
              " ('\" style=\"\">', 'fevereiro/2017', ' </li>'),\n",
              " ('\" style=\"\">', 'janeiro/2017', ' </li>'),\n",
              " ('\" style=\"\">', 'dezembro/2016', ' </li>'),\n",
              " ('\" style=\"\">', 'novembro/2016', ' </li>'),\n",
              " ('\" style=\"\">', 'outubro/2016', ' </li>'),\n",
              " ('\" style=\"\">', 'setembro/2016', ' </li>'),\n",
              " ('\" style=\"\">', 'agosto/2016', ' </li>'),\n",
              " ('\" style=\"\">', 'julho/2016', ' </li>'),\n",
              " ('\" style=\"\">', 'junho/2016', ' </li>'),\n",
              " ('\" style=\"\">', 'maio/2016', ' </li>'),\n",
              " ('\" style=\"\">', 'abril/2016', ' </li>'),\n",
              " ('\" style=\"\">', 'março/2016', ' </li>'),\n",
              " ('\" style=\"\">', 'fevereiro/2016', ' </li>'),\n",
              " ('\" style=\"\">', 'janeiro/2016', ' </li>'),\n",
              " ('\" style=\"\">', 'dezembro/2015', ' </li>'),\n",
              " ('\" style=\"\">', 'novembro/2015', ' </li>'),\n",
              " ('\" style=\"\">', 'outubro/2015', ' </li>'),\n",
              " ('\" style=\"\">', 'setembro/2015', ' </li>'),\n",
              " ('\" style=\"\">', 'agosto/2015', ' </li>'),\n",
              " ('\" style=\"\">', 'julho/2015', ' </li>'),\n",
              " ('\" style=\"\">', 'junho/2015', ' </li>'),\n",
              " ('\" style=\"\">', 'maio/2015', ' </li>'),\n",
              " ('\" style=\"\">', 'abril/2015', ' </li>'),\n",
              " ('\" style=\"\">', 'março/2015', ' </li>'),\n",
              " ('\" style=\"\">', 'fevereiro/2015', ' </li>'),\n",
              " ('\" style=\"\">', 'janeiro/2015', ' </li>'),\n",
              " ('\" style=\"\">', 'dezembro/2014', ' </li>'),\n",
              " ('\" style=\"\">', 'novembro/2014', ' </li>'),\n",
              " ('\" style=\"\">', 'outubro/2014', ' </li>'),\n",
              " ('\" style=\"\">', 'setembro/2014', ' </li>'),\n",
              " ('\" style=\"\">', 'agosto/2014', ' </li>'),\n",
              " ('\" style=\"\">', 'julho/2014', ' </li>'),\n",
              " ('\" style=\"\">', 'junho/2014', ' </li>'),\n",
              " ('\" style=\"\">', 'maio/2014', ' </li>'),\n",
              " ('\" style=\"\">', 'abril/2014', ' </li>'),\n",
              " ('\" style=\"\">', 'março/2014', ' </li>'),\n",
              " ('\" style=\"\">', 'fevereiro/2014', ' </li>'),\n",
              " ('\" style=\"\">', 'janeiro/2014', ' </li>'),\n",
              " ('\" style=\"\">', 'dezembro/2013', ' </li>'),\n",
              " ('\" style=\"\">', 'novembro/2013', ' </li>'),\n",
              " ('\" style=\"\">', 'outubro/2013', ' </li>'),\n",
              " ('\" style=\"\">', 'setembro/2013', ' </li>'),\n",
              " ('\" style=\"\">', 'agosto/2013', ' </li>'),\n",
              " ('\" style=\"\">', 'julho/2013', ' </li>'),\n",
              " ('\" style=\"\">', 'junho/2013', ' </li>'),\n",
              " ('\" style=\"\">', 'maio/2013', ' </li>'),\n",
              " ('\" style=\"\">', 'abril/2013', ' </li>'),\n",
              " ('\" style=\"\">', 'março/2013', ' </li>'),\n",
              " ('\" style=\"\">', 'fevereiro/2013', ' </li>'),\n",
              " ('\" style=\"\">', 'janeiro/2013', ' </li>'),\n",
              " ('\" style=\"\">', 'dezembro/2012', ' </li>'),\n",
              " ('\" style=\"\">', 'novembro/2012', ' </li>'),\n",
              " ('\" style=\"\">', 'outubro/2012', ' </li>'),\n",
              " ('\" style=\"\">', 'setembro/2012', ' </li>'),\n",
              " ('\" style=\"\">', 'agosto/2012', ' </li>'),\n",
              " ('\" style=\"\">', 'julho/2012', ' </li>'),\n",
              " ('\" style=\"\">', 'junho/2012', ' </li>'),\n",
              " ('\" style=\"\">', 'maio/2012', ' </li>'),\n",
              " ('\" style=\"\">', 'abril/2012', ' </li>'),\n",
              " ('\" style=\"\">', 'março/2012', ' </li>'),\n",
              " ('\" style=\"\">', 'fevereiro/2012', ' </li>'),\n",
              " ('\" style=\"\">', 'janeiro/2012', ' </li>'),\n",
              " ('\" style=\"\">', 'dezembro/2011', ' </li>'),\n",
              " ('\" style=\"\">', 'novembro/2011', ' </li>'),\n",
              " ('\" style=\"\">', 'outubro/2011', ' </li>'),\n",
              " ('\" style=\"\">', 'setembro/2011', ' </li>'),\n",
              " ('\" style=\"\">', 'agosto/2011', ' </li>'),\n",
              " ('\" style=\"\">', 'julho/2011', ' </li>'),\n",
              " ('\" style=\"\">', 'junho/2011', ' </li>'),\n",
              " ('\" style=\"\">', 'maio/2011', ' </li>'),\n",
              " ('\" style=\"\">', 'abril/2011', ' </li>'),\n",
              " ('\" style=\"\">', 'março/2011', ' </li>'),\n",
              " ('\" style=\"\">', 'fevereiro/2011', ' </li>'),\n",
              " ('\" style=\"\">', 'janeiro/2011', ' </li>'),\n",
              " ('\" style=\"\">', 'dezembro/2010', ' </li>'),\n",
              " ('\" style=\"\">', 'novembro/2010', ' </li>'),\n",
              " ('\" style=\"\">', 'outubro/2010', ' </li>'),\n",
              " ('\" style=\"\">', 'setembro/2010', ' </li>'),\n",
              " ('\" style=\"\">', 'agosto/2010', ' </li>'),\n",
              " ('\" style=\"\">', 'julho/2010', ' </li>'),\n",
              " ('\" style=\"\">', 'junho/2010', ' </li>'),\n",
              " ('\" style=\"\">', 'maio/2010', ' </li>'),\n",
              " ('\" style=\"\">', 'abril/2010', ' </li>'),\n",
              " ('\" style=\"\">', 'março/2010', ' </li>'),\n",
              " ('\" style=\"\">', 'fevereiro/2010', ' </li>'),\n",
              " ('\" style=\"\">', 'janeiro/2010', ' </li>'),\n",
              " ('\" style=\"\">', 'dezembro/2009', ' </li>'),\n",
              " ('\" style=\"\">', 'novembro/2009', ' </li>'),\n",
              " ('\" style=\"\">', 'outubro/2009', ' </li>'),\n",
              " ('\" style=\"\">', 'setembro/2009', ' </li>'),\n",
              " ('\" style=\"\">', 'agosto/2009', ' </li>'),\n",
              " ('\" style=\"\">', 'julho/2009', ' </li>'),\n",
              " ('\" style=\"\">', 'junho/2009', ' </li>'),\n",
              " ('\" style=\"\">', 'maio/2009', ' </li>'),\n",
              " ('\" style=\"\">', 'abril/2009', ' </li>'),\n",
              " ('\" style=\"\">', 'março/2009', ' </li>'),\n",
              " ('\" style=\"\">', 'fevereiro/2009', ' </li>'),\n",
              " ('\" style=\"\">', 'janeiro/2009', ' </li>'),\n",
              " ('\" style=\"\">', 'dezembro/2008', ' </li>'),\n",
              " ('\" style=\"\">', 'novembro/2008', ' </li>'),\n",
              " ('\" style=\"\">', 'outubro/2008', ' </li>'),\n",
              " ('\" style=\"\">', 'setembro/2008', ' </li>'),\n",
              " ('\" style=\"\">', 'agosto/2008', ' </li>'),\n",
              " ('\" style=\"\">', 'julho/2008', ' </li>'),\n",
              " ('\" style=\"\">', 'junho/2008', ' </li>'),\n",
              " ('\" style=\"\">', 'maio/2008', ' </li>'),\n",
              " ('\" style=\"\">', 'abril/2008', ' </li>'),\n",
              " ('\" style=\"\">', 'março/2008', ' </li>'),\n",
              " ('\" style=\"\">', 'fevereiro/2008', ' </li>'),\n",
              " ('\" style=\"\">', 'janeiro/2008', ' </li>'),\n",
              " ('\" style=\"\">', 'dezembro/2007', ' </li>'),\n",
              " ('\" style=\"\">', 'novembro/2007', ' </li>'),\n",
              " ('\" style=\"\">', 'outubro/2007', ' </li>'),\n",
              " ('\" style=\"\">', 'setembro/2007', ' </li>'),\n",
              " ('\" style=\"\">', 'agosto/2007', ' </li>'),\n",
              " ('\" style=\"\">', 'julho/2007', ' </li>'),\n",
              " ('\" style=\"\">', 'junho/2007', ' </li>'),\n",
              " ('\" style=\"\">', 'maio/2007', ' </li>'),\n",
              " ('\" style=\"\">', 'abril/2007', ' </li>'),\n",
              " ('\" style=\"\">', 'março/2007', ' </li>'),\n",
              " ('\" style=\"\">', 'fevereiro/2007', ' </li>'),\n",
              " ('\" style=\"\">', 'janeiro/2007', ' </li>'),\n",
              " ('\" style=\"\">', 'dezembro/2006', ' </li>'),\n",
              " ('\" style=\"\">', 'novembro/2006', ' </li>'),\n",
              " ('\" style=\"\">', 'outubro/2006', ' </li>'),\n",
              " ('\" style=\"\">', 'setembro/2006', ' </li>'),\n",
              " ('\" style=\"\">', 'agosto/2006', ' </li>'),\n",
              " ('\" style=\"\">', 'julho/2006', ' </li>'),\n",
              " ('\" style=\"\">', 'junho/2006', ' </li>'),\n",
              " ('\" style=\"\">', 'maio/2006', ' </li>'),\n",
              " ('\" style=\"\">', 'abril/2006', ' </li>'),\n",
              " ('\" style=\"\">', 'março/2006', ' </li>'),\n",
              " ('\" style=\"\">', 'fevereiro/2006', ' </li>'),\n",
              " ('\" style=\"\">', 'janeiro/2006', ' </li>'),\n",
              " ('\" style=\"\">', 'dezembro/2005', ' </li>'),\n",
              " ('\" style=\"\">', 'novembro/2005', ' </li>'),\n",
              " ('\" style=\"\">', 'outubro/2005', ' </li>'),\n",
              " ('\" style=\"\">', 'setembro/2005', ' </li>'),\n",
              " ('\" style=\"\">', 'agosto/2005', ' </li>'),\n",
              " ('\" style=\"\">', 'julho/2005', ' </li>'),\n",
              " ('\" style=\"\">', 'junho/2005', ' </li>'),\n",
              " ('\" style=\"\">', 'maio/2005', ' </li>'),\n",
              " ('\" style=\"\">', 'abril/2005', ' </li>'),\n",
              " ('\" style=\"\">', 'março/2005', ' </li>'),\n",
              " ('\" style=\"\">', 'fevereiro/2005', ' </li>'),\n",
              " ('\" style=\"\">', 'janeiro/2005', ' </li>'),\n",
              " ('\" style=\"\">', 'dezembro/2004', ' </li>'),\n",
              " ('\" style=\"\">', 'novembro/2004', ' </li>'),\n",
              " ('\" style=\"\">', 'outubro/2004', ' </li>'),\n",
              " ('\" style=\"\">', 'setembro/2004', ' </li>'),\n",
              " ('\" style=\"\">', 'agosto/2004', ' </li>'),\n",
              " ('\" style=\"\">', 'julho/2004', ' </li>'),\n",
              " ('\" style=\"\">', 'junho/2004', ' </li>'),\n",
              " ('\" style=\"\">', 'maio/2004', ' </li>'),\n",
              " ('\" style=\"\">', 'abril/2004', ' </li>'),\n",
              " ('\" style=\"\">', 'março/2004', ' </li>'),\n",
              " ('\" style=\"\">', 'fevereiro/2004', ' </li>'),\n",
              " ('\" style=\"\">', 'janeiro/2004', ' </li>'),\n",
              " ('\" style=\"\">', 'dezembro/2003', ' </li>'),\n",
              " ('\" style=\"\">', 'novembro/2003', ' </li>'),\n",
              " ('\" style=\"\">', 'outubro/2003', ' </li>'),\n",
              " ('\" style=\"\">', 'setembro/2003', ' </li>'),\n",
              " ('\" style=\"\">', 'agosto/2003', ' </li>'),\n",
              " ('\" style=\"\">', 'julho/2003', ' </li>'),\n",
              " ('\" style=\"\">', 'junho/2003', ' </li>'),\n",
              " ('\" style=\"\">', 'maio/2003', ' </li>'),\n",
              " ('\" style=\"\">', 'abril/2003', ' </li>'),\n",
              " ('\" style=\"\">', 'março/2003', ' </li>'),\n",
              " ('\" style=\"\">', 'fevereiro/2003', ' </li>'),\n",
              " ('\" style=\"\">', 'janeiro/2003', ' </li>'),\n",
              " ('\" style=\"\">', 'dezembro/2002', ' </li>'),\n",
              " ('\" style=\"\">', 'novembro/2002', ' </li>'),\n",
              " ('\" style=\"\">', 'outubro/2002', ' </li>'),\n",
              " ('\" style=\"\">', 'setembro/2002', ' </li>'),\n",
              " ('\" style=\"\">', 'agosto/2002', ' </li>'),\n",
              " ('\" style=\"\">', 'julho/2002', ' </li>'),\n",
              " ('\" style=\"\">', 'junho/2002', ' </li>'),\n",
              " ('\" style=\"\">', 'maio/2002', ' </li>'),\n",
              " ('\" style=\"\">', 'abril/2002', ' </li>'),\n",
              " ('\" style=\"\">', 'março/2002', ' </li>'),\n",
              " ('\" style=\"\">', 'fevereiro/2002', ' </li>'),\n",
              " ('\" style=\"\">', 'janeiro/2002', ' </li>'),\n",
              " ('\" style=\"\">', 'dezembro/2001', ' </li>'),\n",
              " ('\" style=\"\">', 'novembro/2001', ' </li>'),\n",
              " ('\" style=\"\">', 'outubro/2001', ' </li>'),\n",
              " ('\" style=\"\">', 'setembro/2001', ' </li>'),\n",
              " ('\" style=\"\">', 'agosto/2001', ' </li>'),\n",
              " ('\" style=\"\">', 'julho/2001', ' </li>'),\n",
              " ('\" style=\"\">', 'junho/2001', ' </li>'),\n",
              " ('\" style=\"\">', 'maio/2001', ' </li>'),\n",
              " ('\" style=\"\">', 'abril/2001', ' </li>'),\n",
              " ('\" style=\"\">', 'março/2001', ' </li>'),\n",
              " ('\" style=\"\">', 'fevereiro/2001', ' </li>'),\n",
              " ('\" style=\"\">', 'janeiro/2001', ' </li>')]"
            ]
          },
          "metadata": {
            "tags": []
          },
          "execution_count": 36
        }
      ]
    },
    {
      "cell_type": "code",
      "metadata": {
        "id": "6SZ9fKnj90G2",
        "outputId": "663e1379-aec1-4e13-c042-5b1ae775eab5"
      },
      "source": [
        "#criando um dicionario de periodos\n",
        "periodos = []\n",
        "for periodo in lista_periodos:\n",
        "    periodo = periodo[1]\n",
        "    mes, ano =  periodo.split('/')\n",
        "    periodos.append({'periodo' : periodo, 'mes' : mes, 'ano' : ano})\n",
        "periodos[0]"
      ],
      "execution_count": null,
      "outputs": [
        {
          "output_type": "execute_result",
          "data": {
            "text/plain": [
              "{'periodo': 'março/2021', 'mes': 'março', 'ano': '2021'}"
            ]
          },
          "metadata": {
            "tags": []
          },
          "execution_count": 37
        }
      ]
    },
    {
      "cell_type": "code",
      "metadata": {
        "id": "8phh0dU590G2"
      },
      "source": [
        "#Criando função de click \n",
        "def click_item_id(id_item):\n",
        "    item = driver.find_element_by_id(id_item)\n",
        "    item.click()\n",
        "    item.is_selecteds = False"
      ],
      "execution_count": null,
      "outputs": []
    },
    {
      "cell_type": "code",
      "metadata": {
        "id": "ZOrxTPQ790G3",
        "outputId": "cd29f879-57d0-43c8-912e-53197b22fc21"
      },
      "source": [
        "#juntando tudo\n",
        "lista_table = []\n",
        "for periodo in periodos:\n",
        "    if int(periodo['ano']) >= 2021:\n",
        "        periodo_referencia = periodo['periodo']\n",
        "        print(periodo_referencia)\n",
        "        esperar()\n",
        "        click_item_id(id_tabela_referencia)\n",
        "        esperar()\n",
        "        prechence_item(id_tabela_referencia, periodo_referencia)\n",
        "        esperar()\n",
        "        prechence_item(id_marca_carro, marca_veiculo)\n",
        "        esperar()\n",
        "        prechence_item(id_modelo_carro, modelo_veiculo)\n",
        "        esperar()\n",
        "        prechence_item(id_ano_carro, ano_veiculo)\n",
        "        esperar()\n",
        "        click_item_id(id_botao_pesquisa)\n",
        "        esperar()\n",
        "        table = driver.find_element_by_id(id_resultado_filtros)\n",
        "        html = table.get_attribute('innerHTML')\n",
        "        parser = BeautifulSoup(html, \"html.parser\")\n",
        "        table = parser.select_one('tbody')\n",
        "        dados = regex_dados.findall(str(table))\n",
        "        dados = lista_dado(dados)\n",
        "        lista_table.append(dados)\n",
        "        click_item_id(id_botao_limpar)"
      ],
      "execution_count": null,
      "outputs": [
        {
          "output_type": "stream",
          "text": [
            "março/2021\n",
            "fevereiro/2021\n",
            "janeiro/2021\n"
          ],
          "name": "stdout"
        }
      ]
    },
    {
      "cell_type": "code",
      "metadata": {
        "id": "-o0IwkHq90G3",
        "outputId": "77006d79-a0cf-4225-de75-507388c7f2e5"
      },
      "source": [
        "regex_titulo= re.compile('(<td class=\"noborder\"><p>)(.*?)(</p>)')\n",
        "titulo = regex_titulo.findall(str(table))\n",
        "titulo = lista_dado(titulo)\n",
        "titulo"
      ],
      "execution_count": null,
      "outputs": [
        {
          "output_type": "execute_result",
          "data": {
            "text/plain": [
              "['Mês de referência:',\n",
              " 'Código Fipe:',\n",
              " 'Marca:',\n",
              " 'Modelo:',\n",
              " 'Ano Modelo:',\n",
              " 'Autenticação',\n",
              " 'Data da consulta',\n",
              " 'Preço Médio']"
            ]
          },
          "metadata": {
            "tags": []
          },
          "execution_count": 40
        }
      ]
    },
    {
      "cell_type": "code",
      "metadata": {
        "id": "KzhEsRNP90G3"
      },
      "source": [
        "#Lendo dados\n",
        "import pandas as pd\n",
        "\n",
        "df = pd.DataFrame(lista_table,columns=titulo)"
      ],
      "execution_count": null,
      "outputs": []
    },
    {
      "cell_type": "code",
      "metadata": {
        "id": "gvrZfHMX90G3",
        "outputId": "2bfe5f7c-5fc7-480b-d19b-d000ca88d5f8"
      },
      "source": [
        "df"
      ],
      "execution_count": null,
      "outputs": [
        {
          "output_type": "execute_result",
          "data": {
            "text/html": [
              "<div>\n",
              "<style scoped>\n",
              "    .dataframe tbody tr th:only-of-type {\n",
              "        vertical-align: middle;\n",
              "    }\n",
              "\n",
              "    .dataframe tbody tr th {\n",
              "        vertical-align: top;\n",
              "    }\n",
              "\n",
              "    .dataframe thead th {\n",
              "        text-align: right;\n",
              "    }\n",
              "</style>\n",
              "<table border=\"1\" class=\"dataframe\">\n",
              "  <thead>\n",
              "    <tr style=\"text-align: right;\">\n",
              "      <th></th>\n",
              "      <th>Mês de referência:</th>\n",
              "      <th>Código Fipe:</th>\n",
              "      <th>Marca:</th>\n",
              "      <th>Modelo:</th>\n",
              "      <th>Ano Modelo:</th>\n",
              "      <th>Autenticação</th>\n",
              "      <th>Data da consulta</th>\n",
              "      <th>Preço Médio</th>\n",
              "    </tr>\n",
              "  </thead>\n",
              "  <tbody>\n",
              "    <tr>\n",
              "      <th>0</th>\n",
              "      <td>março de 2021</td>\n",
              "      <td>005275-2</td>\n",
              "      <td>VW - VolksWagen</td>\n",
              "      <td>Gol (novo) 1.0 Mi Total Flex 8V 4p</td>\n",
              "      <td>2013 Gasolina</td>\n",
              "      <td>mdc4zpkqnsnc</td>\n",
              "      <td>segunda-feira, 22 de março de 2021 01:29</td>\n",
              "      <td>R$ 23.971,00</td>\n",
              "    </tr>\n",
              "    <tr>\n",
              "      <th>1</th>\n",
              "      <td>fevereiro de 2021</td>\n",
              "      <td>005275-2</td>\n",
              "      <td>VW - VolksWagen</td>\n",
              "      <td>Gol (novo) 1.0 Mi Total Flex 8V 4p</td>\n",
              "      <td>2013 Gasolina</td>\n",
              "      <td>l7sn2y2ymxnc</td>\n",
              "      <td>segunda-feira, 22 de março de 2021 01:29</td>\n",
              "      <td>R$ 23.579,00</td>\n",
              "    </tr>\n",
              "    <tr>\n",
              "      <th>2</th>\n",
              "      <td>janeiro de 2021</td>\n",
              "      <td>005275-2</td>\n",
              "      <td>VW - VolksWagen</td>\n",
              "      <td>Gol (novo) 1.0 Mi Total Flex 8V 4p</td>\n",
              "      <td>2013 Gasolina</td>\n",
              "      <td>l44jl26s9tnc</td>\n",
              "      <td>segunda-feira, 22 de março de 2021 01:30</td>\n",
              "      <td>R$ 23.353,00</td>\n",
              "    </tr>\n",
              "  </tbody>\n",
              "</table>\n",
              "</div>"
            ],
            "text/plain": [
              "   Mês de referência: Código Fipe:           Marca:  \\\n",
              "0      março de 2021      005275-2  VW - VolksWagen   \n",
              "1  fevereiro de 2021      005275-2  VW - VolksWagen   \n",
              "2    janeiro de 2021      005275-2  VW - VolksWagen   \n",
              "\n",
              "                              Modelo:    Ano Modelo:  Autenticação  \\\n",
              "0  Gol (novo) 1.0 Mi Total Flex 8V 4p  2013 Gasolina  mdc4zpkqnsnc   \n",
              "1  Gol (novo) 1.0 Mi Total Flex 8V 4p  2013 Gasolina  l7sn2y2ymxnc   \n",
              "2  Gol (novo) 1.0 Mi Total Flex 8V 4p  2013 Gasolina  l44jl26s9tnc   \n",
              "\n",
              "                           Data da consulta   Preço Médio  \n",
              "0  segunda-feira, 22 de março de 2021 01:29  R$ 23.971,00  \n",
              "1  segunda-feira, 22 de março de 2021 01:29  R$ 23.579,00  \n",
              "2  segunda-feira, 22 de março de 2021 01:30  R$ 23.353,00  "
            ]
          },
          "metadata": {
            "tags": []
          },
          "execution_count": 42
        }
      ]
    },
    {
      "cell_type": "code",
      "metadata": {
        "id": "ngl7vp8890G4"
      },
      "source": [
        "# Fechando o web browser\n",
        "driver.quit()"
      ],
      "execution_count": null,
      "outputs": []
    },
    {
      "cell_type": "code",
      "metadata": {
        "id": "nncWxkEn90G4"
      },
      "source": [
        "#Exportando os dados para um arquivo csv\n",
        "df.to_csv('dados_gol_2021.csv', sep=';', encoding='latin1')"
      ],
      "execution_count": null,
      "outputs": []
    },
    {
      "cell_type": "code",
      "metadata": {
        "id": "WHHuYKZT90G4"
      },
      "source": [
        ""
      ],
      "execution_count": null,
      "outputs": []
    }
  ]
}